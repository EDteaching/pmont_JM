{
 "cells": [
  {
   "cell_type": "markdown",
   "metadata": {},
   "source": [
    "<img style=\"float: left;\" src=\"images/swaplogo.png\" alt=\"UoE\" height=\"50px\" width=\"1100px\"/>"
   ]
  },
  {
   "cell_type": "code",
   "execution_count": 1,
   "metadata": {},
   "outputs": [
    {
     "name": "stdout",
     "output_type": "stream",
     "text": [
      "You are now ready to continue the practical\n"
     ]
    }
   ],
   "source": [
    "# Initial set-up\n",
    "%matplotlib notebook\n",
    "%config InlineBackend.figure_format = 'svg'\n",
    "import matplotlib.pyplot as plt\n",
    "import ipywidgets as widgets\n",
    "from ipywidgets import FloatSlider, IntSlider, HBox\n",
    "from IPython.display import HTML, display\n",
    "\n",
    "from src.pminterface import pminterface\n",
    "from src import Model\n",
    "print (\"You are now ready to continue the practical\")"
   ]
  },
  {
   "cell_type": "markdown",
   "metadata": {},
   "source": [
    "## INTRODUCTION\n",
    "<br>\n",
    "Penman-Monteith Equation\n",
    "<br>\n",
    "> $ \\Large LE = \\frac{\\Delta R_n + \\frac{\\rho c_p (e_z - e_s)}{r_a}}{\\Delta + \\gamma(1+\\frac{r_c}{r_a})}$\n",
    "<br>  \n",
    "where:  \n",
    "<br>\n",
    "$R_n$ = net radiation (W m$^{-2}$)\n",
    "<br>\n",
    "$\\Delta$ = slope of saturation vapor pressure curve (hPa$\\, ^{\\circ}$C$^{-1}$)\n",
    "<br>\n",
    "$\\rho$ = density of air (kg m$^{-3}$)\n",
    "<br>\n",
    "$c_p$ = specific heat of air (j kg$^{-1}$ $^{\\circ}$C$^{-1}$)\n",
    "<br>\n",
    "$e_z$ = vapour pressure in air (hPa) at height $z$\n",
    "<br>\n",
    "$e_s$ = vapour pressure at surface (hPa)\n",
    "<br>\n",
    "$r_a$ = aerodynamic resistance (s m$^{-1}$)\n",
    "<br>\n",
    "$r_c$ = canopy resistance or bulk stomatal resistance (s m$^{-1}$)\n",
    "<br>\n",
    "$\\gamma$ = pyschrometric constant (0.066 hPa $^{\\circ}$C$^{-1}$)\n",
    "<br>"
   ]
  },
  {
   "cell_type": "markdown",
   "metadata": {},
   "source": [
    "Start by defining a simple function just to test the simulation is available and working. The parameters are:\n",
    "- $irradiance:$ irradiance\n",
    "- $air T:$ air temperature\n",
    "- $u:$ windspeed\n",
    "- $vp:$ vapour pressure\n",
    "- $r_c:$ canopy resistance"
   ]
  },
  {
   "cell_type": "code",
   "execution_count": null,
   "metadata": {},
   "outputs": [],
   "source": [
    "# plot\n",
    "#fig,ax = plt.subplots(1, figsize=(6,4))\n",
    "#plt.suptitle('Penman-Monteith Evaporation')\n",
    "#LEc = mod.calculateLE(500,1,15,3,8,30)\n",
    "#LE = LEc\n",
    "#y = [LEc, LE]\n",
    "#print(y)    \n",
    "#N = len( y )\n",
    "#x = range( N )\n",
    "#plt.bar( x, y, color=\"blue\" )\n",
    "#plt.ylim(0,1000)\n",
    "#ax.set_ylabel('Evaporation Flux Density (W m$^{-2}$)')\n",
    "#xTickMarks = ['Control','Model']\n",
    "#xtickNames = ax.set_xticklabels(xTickMarks)\n",
    "#plt.setp(xtickNames, rotation=45, fontsize=10)\n",
    "\n",
    "def update_plot(sol,airt,u,vp,rs):\n",
    "    # calculate evaporation, simple defaults\n",
    "    # inputs are irrad, airT, u, vp, rs\n",
    "    LE = mod.calculateLE(sol,1,airt,u,vp,rs)\n",
    "    LEc = mod.calculateLE(500,1,15,3,8,30)\n",
    "    y = [LEc, LE]\n",
    "    x = range( len(y) )\n",
    "    print('Control = {:03.0f}'.format(y[0]), 'W m$^{-2}$', '   Modelled = {:03.0f}'.format(y[1]), 'W m$^{-2}$')\n",
    "    plt.suptitle('Penman-Monteith Evaporation')\n",
    "    plt.bar( x, y, color=\"blue\" )\n",
    "    plt.ylim(0,1000)\n",
    "    ax.set_ylabel('Evaporation Flux Density (W m$^{-2}$)')\n",
    "    xTickMarks = ['Control','Model']\n",
    "    xtickNames = ax.set_xticklabels(xTickMarks)\n",
    "    plt.setp(xtickNames, rotation=45, fontsize=10)\n",
    "    plt.show()\n",
    "    \n"
   ]
  },
  {
   "cell_type": "markdown",
   "metadata": {},
   "source": [
    "$\\Large R_n=(1-\\alpha)Q_t + L_w^{\\downarrow} \\,+L_w^{\\uparrow} = H + LE + G$"
   ]
  },
  {
   "cell_type": "code",
   "execution_count": 2,
   "metadata": {},
   "outputs": [
    {
     "data": {
      "application/vnd.jupyter.widget-view+json": {
       "model_id": "2a4ebe756da04f5493fb2f091e09a950",
       "version_major": 2,
       "version_minor": 0
      },
      "text/plain": [
       "VBox(children=(HBox(children=(BoundedIntText(value=5, description='wind speed $m \\\\ s^{-1}$', max=15, min=1), …"
      ]
     },
     "metadata": {},
     "output_type": "display_data"
    },
    {
     "name": "stdout",
     "output_type": "stream",
     "text": [
      "414.2885575999294\n",
      "432.0339315091668\n",
      "483.66512475629395\n",
      "568.6057756621547\n",
      "631.3168525569741\n",
      "693.8591892612682\n",
      "756.1912193069481\n",
      "696.7308160603404\n",
      "638.1837786664653\n",
      "696.7308160603404\n",
      "697.0082369790061\n",
      "699.782446165663\n",
      "702.5566553523198\n",
      "532.619029395557\n",
      "498.0871494330743\n",
      "460.9947774107272\n",
      "456.6140365687487\n",
      "452.2332957267702\n",
      "423.776792612362\n",
      "395.345284928702\n"
     ]
    }
   ],
   "source": [
    "# Create some selection boxes\n",
    "fd = pminterface()             # the view Class in MVC parlance effectively\n",
    "widgets.VBox(children=[fd.h1,fd.h2])"
   ]
  },
  {
   "cell_type": "code",
   "execution_count": null,
   "metadata": {},
   "outputs": [],
   "source": [
    "print(fd.surface)\n",
    "mod = Model.Model(fd.surface)"
   ]
  },
  {
   "cell_type": "markdown",
   "metadata": {},
   "source": [
    "Now plot saturation vapour pressure as a function of air temperature"
   ]
  },
  {
   "cell_type": "code",
   "execution_count": null,
   "metadata": {},
   "outputs": [],
   "source": [
    "fig = plt.figure()\n",
    "ax2 = fig.add_subplot(111)\n",
    "d = fd.svpData\n",
    "x_list = [x for [x, y] in d]\n",
    "y_list = [y for [x, y] in d]\n",
    "ax2.set_xlabel('Air temperature (K)')\n",
    "ax2.set_ylabel('Saturation vapour pressure (mbar)')\n",
    "ax2.set_title('SVP versus air temperature')\n",
    "plt.plot(x_list, y_list)\n",
    "# Make it interactive with Bokeh\n",
    "#show(bokeh.mpl.to_bokeh())"
   ]
  },
  {
   "cell_type": "code",
   "execution_count": null,
   "metadata": {},
   "outputs": [],
   "source": [
    "print(s.rho)"
   ]
  },
  {
   "cell_type": "code",
   "execution_count": null,
   "metadata": {
    "jupyter": {
     "outputs_hidden": true
    }
   },
   "outputs": [],
   "source": [
    "def show_change(change):\n",
    "    display(change)\n",
    " \n",
    "int_slider = widgets.IntSlider(value=7, min=0, max=10, continuous_update=False)\n",
    "int_slider.observe(show_change, 'value')\n",
    "int_slider.value = 8"
   ]
  },
  {
   "cell_type": "code",
   "execution_count": null,
   "metadata": {
    "jupyter": {
     "outputs_hidden": true
    }
   },
   "outputs": [],
   "source": [
    "print(int_slider.value)"
   ]
  },
  {
   "cell_type": "code",
   "execution_count": null,
   "metadata": {},
   "outputs": [],
   "source": [
    "display(int_slider)"
   ]
  },
  {
   "cell_type": "code",
   "execution_count": null,
   "metadata": {},
   "outputs": [],
   "source": [
    "print(int_slider.value)"
   ]
  },
  {
   "cell_type": "code",
   "execution_count": null,
   "metadata": {},
   "outputs": [],
   "source": []
  }
 ],
 "metadata": {
  "anaconda-cloud": {},
  "kernelspec": {
   "display_name": "Python 3",
   "language": "python",
   "name": "python3"
  },
  "language_info": {
   "codemirror_mode": {
    "name": "ipython",
    "version": 3
   },
   "file_extension": ".py",
   "mimetype": "text/x-python",
   "name": "python",
   "nbconvert_exporter": "python",
   "pygments_lexer": "ipython3",
   "version": "3.7.7"
  }
 },
 "nbformat": 4,
 "nbformat_minor": 4
}
